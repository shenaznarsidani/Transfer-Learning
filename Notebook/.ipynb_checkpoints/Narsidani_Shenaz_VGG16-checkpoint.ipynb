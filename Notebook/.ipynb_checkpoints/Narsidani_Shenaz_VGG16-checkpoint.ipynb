{
 "cells": [
  {
   "cell_type": "code",
   "execution_count": 1,
   "metadata": {
    "colab": {
     "base_uri": "https://localhost:8080/"
    },
    "id": "dytdciKg2Boa",
    "outputId": "96fc08fd-0958-40bb-fb00-5a2550395319"
   },
   "outputs": [
    {
     "name": "stdout",
     "output_type": "stream",
     "text": [
      "Requirement already satisfied: opencv-python in c:\\users\\pc\\anaconda3\\lib\\site-packages (4.6.0.66)\n",
      "Requirement already satisfied: numpy>=1.13.3 in c:\\users\\pc\\anaconda3\\lib\\site-packages (from opencv-python) (1.19.5)\n"
     ]
    }
   ],
   "source": [
    "!pip install opencv-python\n"
   ]
  },
  {
   "cell_type": "code",
   "execution_count": 2,
   "metadata": {
    "collapsed": true,
    "id": "n_fdlhie2Boe"
   },
   "outputs": [],
   "source": [
    "import os\n",
    "import pandas as pd\n",
    "import cv2\n",
    "import numpy as np\n",
    "import shutil, os"
   ]
  },
  {
   "cell_type": "code",
   "execution_count": 3,
   "metadata": {
    "colab": {
     "base_uri": "https://localhost:8080/"
    },
    "id": "R4v-FMb_2Bog",
    "outputId": "9d499593-7b23-4d7e-c5fe-db0422f7a5d0"
   },
   "outputs": [
    {
     "name": "stdout",
     "output_type": "stream",
     "text": [
      "['005.Crested_Auklet', '013.Bobolink', '015.Lazuli_Bunting', '023.Brandt_Cormorant', '040.Olive_sided_Flycatcher', '041.Scissor_tailed_Flycatcher', '067.Anna_Hummingbird', '072.Pomarine_Jaeger', '076.Dark_eyed_Junco', '081.Pied_Kingfisher', '082.Ringed_Kingfisher', '086.Pacific_Loon', '099.Ovenbird', '104.American_Pipit', '127.Savannah_Sparrow', '135.Bank_Swallow', '141.Artic_Tern', '149.Brown_Thrasher', '156.White_eyed_Vireo', '168.Kentucky_Warbler']\n",
      "Types of classes labels found:  20\n"
     ]
    }
   ],
   "source": [
    "\n",
    "data_path = '../Data/images'\n",
    "#data_path = './images'\n",
    "class_folders = os.listdir(data_path)\n",
    "print (class_folders)  #what kinds of classes are in this dataset\n",
    "\n",
    "print(\"Types of classes labels found: \", len(class_folders))"
   ]
  },
  {
   "cell_type": "code",
   "execution_count": null,
   "metadata": {
    "collapsed": true
   },
   "outputs": [],
   "source": [
    "from keras_preprocessing.image import load_img\n",
    "from tensorflow.keras.utils import load_img"
   ]
  },
  {
   "cell_type": "code",
   "execution_count": 4,
   "metadata": {
    "collapsed": true,
    "id": "dK6gN4i62Boh"
   },
   "outputs": [],
   "source": [
    "class_labels = []\n",
    "im_size = 224\n",
    "images = []\n",
    "labels = []\n",
    "for class_folder in class_folders:\n",
    "    class_images = os.listdir(data_path+'/'+class_folder)\n",
    "    #print(images)\n",
    "    for image in class_images:\n",
    "        image_path = str(data_path+'/'+class_folder) + '/' + image\n",
    "        class_labels.append((class_folder, image_path, image))\n",
    "        img = cv2.imread(image_path)\n",
    "        #print(image_path)\n",
    "        #img = cv2.resize(img, (im_size, im_size))\n",
    "        images.append(img)\n",
    "        labels.append(class_folder)\n",
    "        #print((class_name, str(data_path+'/'+class_name) + '/' + image))\n",
    "#print(class_labels)"
   ]
  },
  {
   "cell_type": "code",
   "execution_count": 5,
   "metadata": {
    "colab": {
     "base_uri": "https://localhost:8080/"
    },
    "id": "oCe5pKc92Boi",
    "outputId": "dc9450ba-e13f-42f8-b59d-6de6cd60bacb"
   },
   "outputs": [
    {
     "name": "stdout",
     "output_type": "stream",
     "text": [
      "                    Labels                                              image  \\\n",
      "1171  168.Kentucky_Warbler  ../Data/images/168.Kentucky_Warbler/Kentucky_W...   \n",
      "1172  168.Kentucky_Warbler  ../Data/images/168.Kentucky_Warbler/Kentucky_W...   \n",
      "1173  168.Kentucky_Warbler  ../Data/images/168.Kentucky_Warbler/Kentucky_W...   \n",
      "1174  168.Kentucky_Warbler  ../Data/images/168.Kentucky_Warbler/Kentucky_W...   \n",
      "1175  168.Kentucky_Warbler  ../Data/images/168.Kentucky_Warbler/Kentucky_W...   \n",
      "\n",
      "                            image_name  \n",
      "1171  Kentucky_Warbler_0078_795889.jpg  \n",
      "1172  Kentucky_Warbler_0079_165339.jpg  \n",
      "1173  Kentucky_Warbler_0080_165351.jpg  \n",
      "1174  Kentucky_Warbler_0082_795869.jpg  \n",
      "1175  Kentucky_Warbler_0083_795883.jpg  \n"
     ]
    }
   ],
   "source": [
    "df = pd.DataFrame(data=class_labels, columns=['Labels', 'image', 'image_name'])\n",
    "#print(df.head())\n",
    "print(df.tail())"
   ]
  },
  {
   "cell_type": "code",
   "execution_count": 11,
   "metadata": {
    "colab": {
     "base_uri": "https://localhost:8080/"
    },
    "id": "VF9U4Z9ntkYD",
    "outputId": "060ab578-c368-4550-a02c-a74213f3d240"
   },
   "outputs": [
    {
     "name": "stderr",
     "output_type": "stream",
     "text": [
      "<ipython-input-11-2bbd740f17cb>:1: VisibleDeprecationWarning: Creating an ndarray from ragged nested sequences (which is a list-or-tuple of lists-or-tuples-or ndarrays with different lengths or shapes) is deprecated. If you meant to do this, you must specify 'dtype=object' when creating the ndarray.\n",
      "  images = np.array(images)\n"
     ]
    }
   ],
   "source": [
    "images = np.array(images)"
   ]
  },
  {
   "cell_type": "code",
   "execution_count": 12,
   "metadata": {
    "colab": {
     "base_uri": "https://localhost:8080/"
    },
    "id": "5m5wIH4M2Bok",
    "outputId": "c672ca85-8302-4198-9da8-f22481cffaf7"
   },
   "outputs": [
    {
     "name": "stdout",
     "output_type": "stream",
     "text": [
      "['104.American_Pipit' '104.American_Pipit' '104.American_Pipit' ...\n",
      " '149.Brown_Thrasher' '149.Brown_Thrasher' '149.Brown_Thrasher']\n",
      "[13 13 13 ... 17 17 17] 1176\n",
      "{0, 1, 2, 3, 4, 5, 6, 7, 8, 9, 10, 11, 12, 13, 14, 15, 16, 17, 18, 19}\n"
     ]
    }
   ],
   "source": [
    "from sklearn.preprocessing import LabelEncoder , OneHotEncoder\n",
    "y=df['Labels'].values\n",
    "print(y)\n",
    "\n",
    "y_labelencoder = LabelEncoder ()\n",
    "y = y_labelencoder.fit_transform (y)\n",
    "print (y, len(y))\n",
    "print(set(y))"
   ]
  },
  {
   "cell_type": "code",
   "execution_count": 13,
   "metadata": {
    "colab": {
     "base_uri": "https://localhost:8080/"
    },
    "id": "INiyG4GC8duP",
    "outputId": "7eafd5fb-2a1a-4103-9876-36a34280580a"
   },
   "outputs": [
    {
     "name": "stdout",
     "output_type": "stream",
     "text": [
      "[[13]\n",
      " [13]\n",
      " [13]\n",
      " ...\n",
      " [17]\n",
      " [17]\n",
      " [17]]\n"
     ]
    }
   ],
   "source": [
    "y=y.reshape(-1,1)\n",
    "print(y)"
   ]
  },
  {
   "cell_type": "code",
   "execution_count": 14,
   "metadata": {
    "colab": {
     "base_uri": "https://localhost:8080/"
    },
    "id": "S-gV3wwzv0jp",
    "outputId": "9241c79d-9c4c-472a-d5c1-bc0c8627403a"
   },
   "outputs": [
    {
     "name": "stdout",
     "output_type": "stream",
     "text": [
      "[[0. 0. 0. 0. 0. 0. 0. 0. 0. 0. 0. 0. 0. 1. 0. 0. 0. 0. 0. 0.]\n",
      " [0. 0. 0. 0. 0. 0. 0. 0. 0. 0. 0. 0. 0. 1. 0. 0. 0. 0. 0. 0.]\n",
      " [0. 0. 0. 0. 0. 0. 0. 0. 0. 0. 0. 0. 0. 1. 0. 0. 0. 0. 0. 0.]\n",
      " [0. 0. 0. 0. 0. 0. 0. 0. 0. 0. 0. 0. 0. 1. 0. 0. 0. 0. 0. 0.]\n",
      " [0. 0. 0. 0. 0. 0. 0. 0. 0. 0. 0. 0. 0. 1. 0. 0. 0. 0. 0. 0.]]\n"
     ]
    }
   ],
   "source": [
    "\n",
    "encoder = OneHotEncoder(handle_unknown='ignore', sparse = False)\n",
    "\n",
    "encoded_y = encoder.fit_transform(y)\n",
    "\n",
    "print(encoded_y[0:5])"
   ]
  },
  {
   "cell_type": "code",
   "execution_count": 15,
   "metadata": {
    "colab": {
     "base_uri": "https://localhost:8080/"
    },
    "id": "GwbzkmihNIC6",
    "outputId": "9f1017b2-3c8c-40e6-bdd8-333dc547c733"
   },
   "outputs": [
    {
     "name": "stdout",
     "output_type": "stream",
     "text": [
      "(823, 3)\n",
      "(177, 3)\n",
      "(176, 3)\n",
      "                                                  image  \\\n",
      "342   ./images/072.Pomarine_Jaeger/Pomarine_Jaeger_0...   \n",
      "228   ./images/015.Lazuli_Bunting/Lazuli_Bunting_003...   \n",
      "777   ./images/141.Artic_Tern/Artic_Tern_0052_143244...   \n",
      "579   ./images/168.Kentucky_Warbler/Kentucky_Warbler...   \n",
      "596   ./images/023.Brandt_Cormorant/Brandt_Cormorant...   \n",
      "1004  ./images/127.Savannah_Sparrow/Savannah_Sparrow...   \n",
      "824   ./images/156.White_eyed_Vireo/White_Eyed_Vireo...   \n",
      "935   ./images/082.Ringed_Kingfisher/Ringed_Kingfish...   \n",
      "\n",
      "                            image_name                 Labels  \n",
      "342    Pomarine_Jaeger_0061_795788.jpg    072.Pomarine_Jaeger  \n",
      "228      Lazuli_Bunting_0035_14920.jpg     015.Lazuli_Bunting  \n",
      "777         Artic_Tern_0052_143244.jpg         141.Artic_Tern  \n",
      "579   Kentucky_Warbler_0065_795899.jpg   168.Kentucky_Warbler  \n",
      "596    Brandt_Cormorant_0067_23352.jpg   023.Brandt_Cormorant  \n",
      "1004  Savannah_Sparrow_0025_119124.jpg   127.Savannah_Sparrow  \n",
      "824   White_Eyed_Vireo_0045_159232.jpg   156.White_eyed_Vireo  \n",
      "935   Ringed_Kingfisher_0078_72826.jpg  082.Ringed_Kingfisher  \n",
      "(823,)\n",
      "(177,)\n",
      "(176,)\n"
     ]
    }
   ],
   "source": [
    "\n",
    "from sklearn.model_selection import train_test_split\n",
    "from sklearn.utils import shuffle\n",
    "bird, species = shuffle(df[['image', 'image_name', 'Labels']], df['Labels'], random_state = 5)\n",
    "X_train, X_test, y_train, y_test = train_test_split(bird, species,\n",
    "                                                    stratify=y, \n",
    "                                                    test_size=0.3)\n",
    "X_cross_val, X_test, y_cross_val, y_test = train_test_split(X_test, y_test,\n",
    "                                                    stratify=y_test, \n",
    "                                                    test_size=0.5)\n",
    "print(X_train.shape)\n",
    "print(X_test.shape)\n",
    "print(X_cross_val.shape)\n",
    "\n",
    "print(X_train.head(8))\n",
    "print(y_train.shape)\n",
    "print(y_test.shape)\n",
    "print(y_cross_val.shape)"
   ]
  },
  {
   "cell_type": "code",
   "execution_count": 16,
   "metadata": {
    "collapsed": true,
    "id": "_K5XsIkog-tU"
   },
   "outputs": [],
   "source": [
    "import shutil, os\n",
    "train_folder = \"./training\"\n",
    "cross_val_folder = \"./validation\"\n",
    "test_folder = \"./testing\"\n",
    "folders = [train_folder,cross_val_folder, test_folder]"
   ]
  },
  {
   "cell_type": "code",
   "execution_count": 18,
   "metadata": {
    "collapsed": true,
    "id": "Y-GOKp9Og5sm"
   },
   "outputs": [],
   "source": [
    "for folder in folders:\n",
    "    if os.path.exists(folder):\n",
    "        shutil.rmtree(folder)"
   ]
  },
  {
   "cell_type": "code",
   "execution_count": 19,
   "metadata": {
    "collapsed": true,
    "id": "8SnO15P0P-fG"
   },
   "outputs": [],
   "source": [
    "for folder in folders:\n",
    "    if not os.path.exists(folder):\n",
    "        os.mkdir(folder)"
   ]
  },
  {
   "cell_type": "code",
   "execution_count": 20,
   "metadata": {
    "collapsed": true,
    "id": "M2kMSkCBRf80"
   },
   "outputs": [],
   "source": [
    "folder = train_folder\n",
    "data = X_train\n",
    "for index, row in data.iterrows():\n",
    "    if not os.path.exists(folder+\"/\"+row[\"Labels\"]):\n",
    "          os.mkdir(folder+\"/\"+row[\"Labels\"])\n",
    "    shutil.copyfile(row[\"image\"], folder+\"/\"+row[\"Labels\"]+\"/\"+row[\"image_name\"] )"
   ]
  },
  {
   "cell_type": "code",
   "execution_count": 21,
   "metadata": {
    "collapsed": true,
    "id": "fxyoBd6PbeOl"
   },
   "outputs": [],
   "source": [
    "folder = cross_val_folder\n",
    "data = X_cross_val\n",
    "for index, row in data.iterrows():\n",
    "    if not os.path.exists(folder+\"/\"+row[\"Labels\"]):\n",
    "          os.mkdir(folder+\"/\"+row[\"Labels\"])\n",
    "    shutil.copyfile(row[\"image\"], folder+\"/\"+row[\"Labels\"]+\"/\"+row[\"image_name\"] )"
   ]
  },
  {
   "cell_type": "code",
   "execution_count": 22,
   "metadata": {
    "collapsed": true,
    "id": "fH36D1gCifMS"
   },
   "outputs": [],
   "source": [
    "folder = test_folder\n",
    "data = X_test\n",
    "for index, row in data.iterrows():\n",
    "    if not os.path.exists(folder+\"/\"+row[\"Labels\"]):\n",
    "          os.mkdir(folder+\"/\"+row[\"Labels\"])\n",
    "    shutil.copyfile(row[\"image\"], folder+\"/\"+row[\"Labels\"]+\"/\"+row[\"image_name\"] )"
   ]
  },
  {
   "cell_type": "code",
   "execution_count": 23,
   "metadata": {
    "collapsed": true,
    "id": "i8DcrSyedIWt"
   },
   "outputs": [],
   "source": [
    "n_classes = 20\n",
    "image_size = 224\n",
    "channels = 3"
   ]
  },
  {
   "cell_type": "code",
   "execution_count": 24,
   "metadata": {
    "collapsed": true,
    "id": "dVYMIbDVl-f4"
   },
   "outputs": [],
   "source": [
    "import cv2\n",
    "import numpy as np\n",
    "from matplotlib.pyplot import imread\n",
    "from matplotlib.pyplot import imshow\n",
    "from tensorflow.keras.preprocessing import image\n",
    "from tensorflow.keras.applications.imagenet_utils import decode_predictions\n",
    "from tensorflow.keras.applications.imagenet_utils import preprocess_input\n",
    "from tensorflow.keras import layers\n",
    "from tensorflow.keras.applications import EfficientNetB0\n",
    "import numpy as np\n",
    "import tensorflow as tf\n",
    "from tensorflow.keras import activations"
   ]
  },
  {
   "cell_type": "code",
   "execution_count": 25,
   "metadata": {
    "colab": {
     "base_uri": "https://localhost:8080/"
    },
    "id": "4QzYvrghYsfe",
    "outputId": "98760523-d7d9-440c-d239-a64b629c2355"
   },
   "outputs": [
    {
     "name": "stdout",
     "output_type": "stream",
     "text": [
      "Looking in indexes: https://pypi.org/simple, https://us-python.pkg.dev/colab-wheels/public/simple/\n",
      "Collecting segmentation-models\n",
      "  Downloading segmentation_models-1.0.1-py3-none-any.whl (33 kB)\n",
      "Collecting efficientnet==1.0.0\n",
      "  Downloading efficientnet-1.0.0-py3-none-any.whl (17 kB)\n",
      "Collecting image-classifiers==1.0.0\n",
      "  Downloading image_classifiers-1.0.0-py3-none-any.whl (19 kB)\n",
      "Collecting keras-applications<=1.0.8,>=1.0.7\n",
      "  Downloading Keras_Applications-1.0.8-py3-none-any.whl (50 kB)\n",
      "\u001b[K     |████████████████████████████████| 50 kB 6.3 MB/s \n",
      "\u001b[?25hRequirement already satisfied: scikit-image in /usr/local/lib/python3.8/dist-packages (from efficientnet==1.0.0->segmentation-models) (0.18.3)\n",
      "Requirement already satisfied: h5py in /usr/local/lib/python3.8/dist-packages (from keras-applications<=1.0.8,>=1.0.7->segmentation-models) (3.1.0)\n",
      "Requirement already satisfied: numpy>=1.9.1 in /usr/local/lib/python3.8/dist-packages (from keras-applications<=1.0.8,>=1.0.7->segmentation-models) (1.21.6)\n",
      "Requirement already satisfied: PyWavelets>=1.1.1 in /usr/local/lib/python3.8/dist-packages (from scikit-image->efficientnet==1.0.0->segmentation-models) (1.4.1)\n",
      "Requirement already satisfied: scipy>=1.0.1 in /usr/local/lib/python3.8/dist-packages (from scikit-image->efficientnet==1.0.0->segmentation-models) (1.7.3)\n",
      "Requirement already satisfied: imageio>=2.3.0 in /usr/local/lib/python3.8/dist-packages (from scikit-image->efficientnet==1.0.0->segmentation-models) (2.9.0)\n",
      "Requirement already satisfied: tifffile>=2019.7.26 in /usr/local/lib/python3.8/dist-packages (from scikit-image->efficientnet==1.0.0->segmentation-models) (2022.10.10)\n",
      "Requirement already satisfied: pillow!=7.1.0,!=7.1.1,>=4.3.0 in /usr/local/lib/python3.8/dist-packages (from scikit-image->efficientnet==1.0.0->segmentation-models) (7.1.2)\n",
      "Requirement already satisfied: networkx>=2.0 in /usr/local/lib/python3.8/dist-packages (from scikit-image->efficientnet==1.0.0->segmentation-models) (2.8.8)\n",
      "Requirement already satisfied: matplotlib!=3.0.0,>=2.0.0 in /usr/local/lib/python3.8/dist-packages (from scikit-image->efficientnet==1.0.0->segmentation-models) (3.2.2)\n",
      "Requirement already satisfied: kiwisolver>=1.0.1 in /usr/local/lib/python3.8/dist-packages (from matplotlib!=3.0.0,>=2.0.0->scikit-image->efficientnet==1.0.0->segmentation-models) (1.4.4)\n",
      "Requirement already satisfied: pyparsing!=2.0.4,!=2.1.2,!=2.1.6,>=2.0.1 in /usr/local/lib/python3.8/dist-packages (from matplotlib!=3.0.0,>=2.0.0->scikit-image->efficientnet==1.0.0->segmentation-models) (3.0.9)\n",
      "Requirement already satisfied: cycler>=0.10 in /usr/local/lib/python3.8/dist-packages (from matplotlib!=3.0.0,>=2.0.0->scikit-image->efficientnet==1.0.0->segmentation-models) (0.11.0)\n",
      "Requirement already satisfied: python-dateutil>=2.1 in /usr/local/lib/python3.8/dist-packages (from matplotlib!=3.0.0,>=2.0.0->scikit-image->efficientnet==1.0.0->segmentation-models) (2.8.2)\n",
      "Requirement already satisfied: six>=1.5 in /usr/local/lib/python3.8/dist-packages (from python-dateutil>=2.1->matplotlib!=3.0.0,>=2.0.0->scikit-image->efficientnet==1.0.0->segmentation-models) (1.15.0)\n",
      "Installing collected packages: keras-applications, image-classifiers, efficientnet, segmentation-models\n",
      "Successfully installed efficientnet-1.0.0 image-classifiers-1.0.0 keras-applications-1.0.8 segmentation-models-1.0.1\n"
     ]
    }
   ],
   "source": [
    "!pip install -U segmentation-models"
   ]
  },
  {
   "cell_type": "code",
   "execution_count": 26,
   "metadata": {
    "collapsed": true,
    "id": "doCKf8VeX88u"
   },
   "outputs": [],
   "source": [
    "from sklearn.model_selection import StratifiedShuffleSplit\n",
    "import cv2\n",
    "import albumentations as albu\n",
    "from skimage.transform import resize\n",
    "import numpy as np\n",
    "import pandas as pd\n",
    "import matplotlib.pyplot as plt\n",
    "from pylab import rcParams\n",
    "from sklearn.metrics import accuracy_score, confusion_matrix, classification_report\n",
    "from keras.callbacks import Callback, EarlyStopping, ReduceLROnPlateau\n",
    "import tensorflow as tf\n",
    "import keras\n",
    "from keras.models import Sequential, load_model\n",
    "from keras.layers import Dropout, Dense, GlobalAveragePooling2D, MaxPooling2D\n",
    "from keras.layers import BatchNormalization,Activation\n",
    "from keras.optimizers import Adam\n",
    "import efficientnet.keras as efn"
   ]
  },
  {
   "cell_type": "code",
   "execution_count": 27,
   "metadata": {
    "collapsed": true,
    "id": "whOnozfjY2md"
   },
   "outputs": [],
   "source": [
    "batch_size = 5"
   ]
  },
  {
   "cell_type": "code",
   "execution_count": 28,
   "metadata": {
    "collapsed": true,
    "id": "TBPmo_3FZ1pC"
   },
   "outputs": [],
   "source": [
    "def resize_img(img, shape):\n",
    "    return cv2.resize(img, (shape[1], shape[0]), interpolation=cv2.INTER_CUBIC)"
   ]
  },
  {
   "cell_type": "code",
   "execution_count": 42,
   "metadata": {
    "collapsed": true,
    "id": "HhS6bJEhdXGP"
   },
   "outputs": [],
   "source": [
    "from keras.preprocessing.image import ImageDataGenerator\n",
    "\n",
    "train_datagen = ImageDataGenerator(\n",
    "    preprocessing_function=preprocess_input,\n",
    "    rotation_range=40,\n",
    "    width_shift_range=0.2,\n",
    "    height_shift_range=0.2,\n",
    "    shear_range=0.2,\n",
    "    zoom_range=0.2,\n",
    "    horizontal_flip=True,\n",
    "    fill_mode='nearest')"
   ]
  },
  {
   "cell_type": "code",
   "execution_count": 43,
   "metadata": {
    "collapsed": true,
    "id": "3nCLM-gGkXrJ"
   },
   "outputs": [],
   "source": [
    "cross_val_datagen = ImageDataGenerator(\n",
    "    preprocessing_function=preprocess_input,\n",
    "    rotation_range=40,\n",
    "    width_shift_range=0.2,\n",
    "    height_shift_range=0.2,\n",
    "    shear_range=0.2,\n",
    "    zoom_range=0.2,\n",
    "    horizontal_flip=True,\n",
    "    fill_mode='nearest',\n",
    "    )"
   ]
  },
  {
   "cell_type": "code",
   "execution_count": 44,
   "metadata": {
    "collapsed": true,
    "id": "0t7vSg_4dgX4"
   },
   "outputs": [],
   "source": [
    "test_datagen = ImageDataGenerator(\n",
    "    preprocessing_function=preprocess_input,\n",
    "    rotation_range=40,\n",
    "    width_shift_range=0.2,\n",
    "    height_shift_range=0.2,\n",
    "    shear_range=0.2,\n",
    "    zoom_range=0.2,\n",
    "    horizontal_flip=True,\n",
    "    fill_mode='nearest',\n",
    "    )"
   ]
  },
  {
   "cell_type": "code",
   "execution_count": 45,
   "metadata": {
    "colab": {
     "base_uri": "https://localhost:8080/"
    },
    "id": "cp3ZUoZ6dnSe",
    "outputId": "6f8c1894-bdd7-4a49-b826-7370cf44e96b"
   },
   "outputs": [
    {
     "name": "stdout",
     "output_type": "stream",
     "text": [
      "Found 823 images belonging to 20 classes.\n"
     ]
    }
   ],
   "source": [
    "train_set = train_datagen.flow_from_directory(train_folder,\n",
    "                                                 target_size = (224, 224),\n",
    "                                                 batch_size = 5,\n",
    "                                                 class_mode = 'categorical',\n",
    "                                                 shuffle = True)\n",
    "     "
   ]
  },
  {
   "cell_type": "code",
   "execution_count": 53,
   "metadata": {
    "colab": {
     "base_uri": "https://localhost:8080/"
    },
    "id": "mnyTyxP1dzrX",
    "outputId": "d630ace2-f167-412f-9397-b079127e64fd"
   },
   "outputs": [
    {
     "name": "stdout",
     "output_type": "stream",
     "text": [
      "Found 177 images belonging to 20 classes.\n"
     ]
    }
   ],
   "source": [
    "test_set = test_datagen.flow_from_directory(test_folder,\n",
    "                                            target_size = (224, 224),\n",
    "                                            batch_size = 5,\n",
    "                                            class_mode = 'categorical', shuffle = False)\n",
    "     "
   ]
  },
  {
   "cell_type": "code",
   "execution_count": 54,
   "metadata": {
    "colab": {
     "base_uri": "https://localhost:8080/"
    },
    "id": "airHmKVekfug",
    "outputId": "ea517df0-2d2d-4058-84ee-a8dc77ca2571"
   },
   "outputs": [
    {
     "name": "stdout",
     "output_type": "stream",
     "text": [
      "Found 176 images belonging to 20 classes.\n"
     ]
    }
   ],
   "source": [
    "cross_val_set = test_datagen.flow_from_directory(cross_val_folder,\n",
    "                                            target_size = (224, 224),\n",
    "                                            batch_size = 5,\n",
    "                                            class_mode = 'categorical', shuffle = True)"
   ]
  },
  {
   "cell_type": "code",
   "execution_count": 48,
   "metadata": {
    "colab": {
     "base_uri": "https://localhost:8080/"
    },
    "id": "iPPR9W7NUOrm",
    "outputId": "4b17156e-195b-420b-bf51-d045dd3e4534"
   },
   "outputs": [
    {
     "name": "stdout",
     "output_type": "stream",
     "text": [
      "Downloading data from https://storage.googleapis.com/tensorflow/keras-applications/vgg16/vgg16_weights_tf_dim_ordering_tf_kernels_notop.h5\n",
      "58889256/58889256 [==============================] - 2s 0us/step\n"
     ]
    }
   ],
   "source": [
    "from tensorflow.keras.applications.vgg16 import VGG16\n",
    "from tensorflow.keras.applications.vgg16 import preprocess_input\n",
    "\n",
    "## Loading VGG16 model\n",
    "base_model = VGG16(weights=\"imagenet\", include_top=False, input_shape=(image_size, image_size, channels))\n",
    "base_model.trainable = False ## Not trainable weights\n",
    "\n",
    "## Preprocessing input\n"
   ]
  },
  {
   "cell_type": "code",
   "execution_count": 49,
   "metadata": {
    "colab": {
     "base_uri": "https://localhost:8080/"
    },
    "id": "LZ-xK4qo1mvP",
    "outputId": "e0001845-3dbf-4273-b26f-f952fc374f55"
   },
   "outputs": [
    {
     "name": "stdout",
     "output_type": "stream",
     "text": [
      "Model: \"sequential_1\"\n",
      "_________________________________________________________________\n",
      " Layer (type)                Output Shape              Param #   \n",
      "=================================================================\n",
      " vgg16 (Functional)          (None, 7, 7, 512)         14714688  \n",
      "                                                                 \n",
      " batch_normalization_1 (Batc  (None, 7, 7, 512)        2048      \n",
      " hNormalization)                                                 \n",
      "                                                                 \n",
      " global_average_pooling2d_1   (None, 512)              0         \n",
      " (GlobalAveragePooling2D)                                        \n",
      "                                                                 \n",
      " activation_1 (Activation)   (None, 512)               0         \n",
      "                                                                 \n",
      " dropout_1 (Dropout)         (None, 512)               0         \n",
      "                                                                 \n",
      " dense_1 (Dense)             (None, 20)                10260     \n",
      "                                                                 \n",
      "=================================================================\n",
      "Total params: 14,726,996\n",
      "Trainable params: 11,284\n",
      "Non-trainable params: 14,715,712\n",
      "_________________________________________________________________\n"
     ]
    }
   ],
   "source": [
    "model = Sequential()\n",
    "model.add(base_model)\n",
    "#model.add(MaxPooling2D())#\n",
    "model.add(BatchNormalization())#\n",
    "model.add(GlobalAveragePooling2D())\n",
    "model.add(Activation('relu'))#\n",
    "#model.add(GlobalAveragePooling2D())\n",
    "model.add(Dropout(0.2))\n",
    "model.add(Dense(n_classes, activation='softmax'))\n",
    "\n",
    "model.summary()"
   ]
  },
  {
   "cell_type": "code",
   "execution_count": 50,
   "metadata": {
    "collapsed": true,
    "id": "pXzsN2m52rHm"
   },
   "outputs": [],
   "source": [
    "optimizer = Adam(learning_rate=0.001)\n",
    "\n",
    "#early stopping to monitor the validation loss and avoid overfitting\n",
    "early_stop = EarlyStopping(monitor='val_loss', mode='min', verbose=1, patience=10, restore_best_weights=True)\n",
    "\n",
    "#reducing learning rate on plateau\n",
    "rlrop = ReduceLROnPlateau(monitor='val_loss', mode='min', patience= 5, factor= 0.5, min_lr= 1e-6, verbose=1)\n",
    "#model compiling\n",
    "model.compile(optimizer=optimizer, loss='categorical_crossentropy', metrics=['accuracy'])"
   ]
  },
  {
   "cell_type": "code",
   "execution_count": 51,
   "metadata": {
    "collapsed": true,
    "id": "6aayP3Dy2uRL"
   },
   "outputs": [],
   "source": [
    "epochs = 50"
   ]
  },
  {
   "cell_type": "code",
   "execution_count": 52,
   "metadata": {
    "colab": {
     "base_uri": "https://localhost:8080/"
    },
    "id": "Zl7ShCRS2xYY",
    "outputId": "e3b7b44c-48ec-4728-bb31-9ffe03197159"
   },
   "outputs": [
    {
     "name": "stdout",
     "output_type": "stream",
     "text": [
      "Epoch 1/50\n"
     ]
    },
    {
     "name": "stderr",
     "output_type": "stream",
     "text": [
      "<ipython-input-52-05e8abbee5f6>:2: UserWarning: `Model.fit_generator` is deprecated and will be removed in a future version. Please use `Model.fit`, which supports generators.\n",
      "  model_history = model.fit_generator(train_set, validation_data = cross_val_set, callbacks = [early_stop, rlrop],verbose = 1, epochs = epochs)\n"
     ]
    },
    {
     "name": "stdout",
     "output_type": "stream",
     "text": [
      "165/165 [==============================] - 29s 164ms/step - loss: 2.7468 - accuracy: 0.2284 - val_loss: 2.1457 - val_accuracy: 0.4545 - lr: 0.0010\n",
      "Epoch 2/50\n",
      "165/165 [==============================] - 17s 102ms/step - loss: 2.1424 - accuracy: 0.5322 - val_loss: 1.7188 - val_accuracy: 0.5795 - lr: 0.0010\n",
      "Epoch 3/50\n",
      "165/165 [==============================] - 18s 107ms/step - loss: 1.7146 - accuracy: 0.6513 - val_loss: 1.3889 - val_accuracy: 0.6534 - lr: 0.0010\n",
      "Epoch 4/50\n",
      "165/165 [==============================] - 17s 100ms/step - loss: 1.4193 - accuracy: 0.7035 - val_loss: 1.1426 - val_accuracy: 0.7045 - lr: 0.0010\n",
      "Epoch 5/50\n",
      "165/165 [==============================] - 17s 102ms/step - loss: 1.1815 - accuracy: 0.7412 - val_loss: 1.0549 - val_accuracy: 0.7045 - lr: 0.0010\n",
      "Epoch 6/50\n",
      "165/165 [==============================] - 17s 101ms/step - loss: 1.0149 - accuracy: 0.7716 - val_loss: 0.8664 - val_accuracy: 0.7784 - lr: 0.0010\n",
      "Epoch 7/50\n",
      "165/165 [==============================] - 17s 101ms/step - loss: 0.9569 - accuracy: 0.7789 - val_loss: 0.8388 - val_accuracy: 0.7614 - lr: 0.0010\n",
      "Epoch 8/50\n",
      "165/165 [==============================] - 17s 100ms/step - loss: 0.8485 - accuracy: 0.7886 - val_loss: 0.8401 - val_accuracy: 0.7557 - lr: 0.0010\n",
      "Epoch 9/50\n",
      "165/165 [==============================] - 17s 100ms/step - loss: 0.7875 - accuracy: 0.7971 - val_loss: 0.7890 - val_accuracy: 0.7784 - lr: 0.0010\n",
      "Epoch 10/50\n",
      "165/165 [==============================] - 17s 101ms/step - loss: 0.7250 - accuracy: 0.8177 - val_loss: 0.7891 - val_accuracy: 0.7386 - lr: 0.0010\n",
      "Epoch 11/50\n",
      "165/165 [==============================] - 17s 102ms/step - loss: 0.6955 - accuracy: 0.8165 - val_loss: 0.7300 - val_accuracy: 0.7784 - lr: 0.0010\n",
      "Epoch 12/50\n",
      "165/165 [==============================] - 17s 101ms/step - loss: 0.6387 - accuracy: 0.8238 - val_loss: 0.7746 - val_accuracy: 0.7557 - lr: 0.0010\n",
      "Epoch 13/50\n",
      "165/165 [==============================] - 18s 107ms/step - loss: 0.5851 - accuracy: 0.8578 - val_loss: 0.7548 - val_accuracy: 0.7670 - lr: 0.0010\n",
      "Epoch 14/50\n",
      "165/165 [==============================] - 17s 101ms/step - loss: 0.5664 - accuracy: 0.8481 - val_loss: 0.6834 - val_accuracy: 0.7955 - lr: 0.0010\n",
      "Epoch 15/50\n",
      "165/165 [==============================] - 19s 116ms/step - loss: 0.5668 - accuracy: 0.8554 - val_loss: 0.6316 - val_accuracy: 0.8068 - lr: 0.0010\n",
      "Epoch 16/50\n",
      "165/165 [==============================] - 17s 101ms/step - loss: 0.5607 - accuracy: 0.8530 - val_loss: 0.6875 - val_accuracy: 0.7898 - lr: 0.0010\n",
      "Epoch 17/50\n",
      "165/165 [==============================] - 17s 101ms/step - loss: 0.5366 - accuracy: 0.8433 - val_loss: 0.7164 - val_accuracy: 0.8182 - lr: 0.0010\n",
      "Epoch 18/50\n",
      "165/165 [==============================] - 17s 102ms/step - loss: 0.5711 - accuracy: 0.8360 - val_loss: 0.6677 - val_accuracy: 0.8182 - lr: 0.0010\n",
      "Epoch 19/50\n",
      "165/165 [==============================] - 19s 116ms/step - loss: 0.4812 - accuracy: 0.8700 - val_loss: 0.6264 - val_accuracy: 0.7841 - lr: 0.0010\n",
      "Epoch 20/50\n",
      "165/165 [==============================] - 17s 101ms/step - loss: 0.4549 - accuracy: 0.8724 - val_loss: 0.6423 - val_accuracy: 0.8068 - lr: 0.0010\n",
      "Epoch 21/50\n",
      "165/165 [==============================] - 17s 100ms/step - loss: 0.4641 - accuracy: 0.8785 - val_loss: 0.6309 - val_accuracy: 0.7898 - lr: 0.0010\n",
      "Epoch 22/50\n",
      "165/165 [==============================] - 16s 100ms/step - loss: 0.4816 - accuracy: 0.8615 - val_loss: 0.6215 - val_accuracy: 0.8068 - lr: 0.0010\n",
      "Epoch 23/50\n",
      "165/165 [==============================] - 18s 107ms/step - loss: 0.4374 - accuracy: 0.8736 - val_loss: 0.6849 - val_accuracy: 0.7784 - lr: 0.0010\n",
      "Epoch 24/50\n",
      "165/165 [==============================] - 17s 104ms/step - loss: 0.4720 - accuracy: 0.8603 - val_loss: 0.6496 - val_accuracy: 0.8295 - lr: 0.0010\n",
      "Epoch 25/50\n",
      "165/165 [==============================] - 18s 106ms/step - loss: 0.4066 - accuracy: 0.8882 - val_loss: 0.6265 - val_accuracy: 0.8011 - lr: 0.0010\n",
      "Epoch 26/50\n",
      "165/165 [==============================] - 17s 106ms/step - loss: 0.3947 - accuracy: 0.8834 - val_loss: 0.6828 - val_accuracy: 0.7955 - lr: 0.0010\n",
      "Epoch 27/50\n",
      "165/165 [==============================] - ETA: 0s - loss: 0.4041 - accuracy: 0.8906\n",
      "Epoch 27: ReduceLROnPlateau reducing learning rate to 0.0005000000237487257.\n",
      "165/165 [==============================] - 17s 103ms/step - loss: 0.4041 - accuracy: 0.8906 - val_loss: 0.6365 - val_accuracy: 0.8409 - lr: 0.0010\n",
      "Epoch 28/50\n",
      "165/165 [==============================] - 17s 102ms/step - loss: 0.3813 - accuracy: 0.9077 - val_loss: 0.6914 - val_accuracy: 0.8295 - lr: 5.0000e-04\n",
      "Epoch 29/50\n",
      "165/165 [==============================] - 17s 102ms/step - loss: 0.3810 - accuracy: 0.8979 - val_loss: 0.6112 - val_accuracy: 0.8125 - lr: 5.0000e-04\n",
      "Epoch 30/50\n",
      "165/165 [==============================] - 17s 102ms/step - loss: 0.3422 - accuracy: 0.9101 - val_loss: 0.6152 - val_accuracy: 0.8295 - lr: 5.0000e-04\n",
      "Epoch 31/50\n",
      "165/165 [==============================] - 17s 102ms/step - loss: 0.3641 - accuracy: 0.9052 - val_loss: 0.6342 - val_accuracy: 0.8182 - lr: 5.0000e-04\n",
      "Epoch 32/50\n",
      "165/165 [==============================] - 17s 101ms/step - loss: 0.3559 - accuracy: 0.8991 - val_loss: 0.6320 - val_accuracy: 0.8239 - lr: 5.0000e-04\n",
      "Epoch 33/50\n",
      "165/165 [==============================] - 18s 107ms/step - loss: 0.3776 - accuracy: 0.8870 - val_loss: 0.7139 - val_accuracy: 0.8068 - lr: 5.0000e-04\n",
      "Epoch 34/50\n",
      "165/165 [==============================] - ETA: 0s - loss: 0.3718 - accuracy: 0.8991\n",
      "Epoch 34: ReduceLROnPlateau reducing learning rate to 0.0002500000118743628.\n",
      "165/165 [==============================] - 17s 101ms/step - loss: 0.3718 - accuracy: 0.8991 - val_loss: 0.6355 - val_accuracy: 0.8352 - lr: 5.0000e-04\n",
      "Epoch 35/50\n",
      "165/165 [==============================] - 17s 101ms/step - loss: 0.4088 - accuracy: 0.8955 - val_loss: 0.6352 - val_accuracy: 0.8295 - lr: 2.5000e-04\n",
      "Epoch 36/50\n",
      "165/165 [==============================] - 17s 101ms/step - loss: 0.3382 - accuracy: 0.9101 - val_loss: 0.6980 - val_accuracy: 0.7898 - lr: 2.5000e-04\n",
      "Epoch 37/50\n",
      "165/165 [==============================] - 17s 100ms/step - loss: 0.3424 - accuracy: 0.9077 - val_loss: 0.6888 - val_accuracy: 0.7784 - lr: 2.5000e-04\n",
      "Epoch 38/50\n",
      "165/165 [==============================] - 17s 101ms/step - loss: 0.3497 - accuracy: 0.9028 - val_loss: 0.6430 - val_accuracy: 0.8068 - lr: 2.5000e-04\n",
      "Epoch 39/50\n",
      "165/165 [==============================] - ETA: 0s - loss: 0.3190 - accuracy: 0.9186Restoring model weights from the end of the best epoch: 29.\n",
      "\n",
      "Epoch 39: ReduceLROnPlateau reducing learning rate to 0.0001250000059371814.\n",
      "165/165 [==============================] - 17s 101ms/step - loss: 0.3190 - accuracy: 0.9186 - val_loss: 0.6470 - val_accuracy: 0.8068 - lr: 2.5000e-04\n",
      "Epoch 39: early stopping\n"
     ]
    }
   ],
   "source": [
    "with tf.device('/GPU:0'):\n",
    "    model_history = model.fit_generator(train_set, validation_data = cross_val_set, callbacks = [early_stop, rlrop],verbose = 1, epochs = epochs)"
   ]
  },
  {
   "cell_type": "code",
   "execution_count": 55,
   "metadata": {
    "collapsed": true,
    "id": "MAkHnyiJ40wA"
   },
   "outputs": [],
   "source": [
    "model.save_weights(\"bird_vgg16_weights\")"
   ]
  },
  {
   "cell_type": "code",
   "execution_count": 56,
   "metadata": {
    "colab": {
     "base_uri": "https://localhost:8080/"
    },
    "id": "pe3Tl_gC42ip",
    "outputId": "851ec322-63c1-448a-a33e-b03368c8f78e"
   },
   "outputs": [
    {
     "name": "stderr",
     "output_type": "stream",
     "text": [
      "<ipython-input-56-ffedbab5485b>:1: UserWarning: `Model.evaluate_generator` is deprecated and will be removed in a future version. Please use `Model.evaluate`, which supports generators.\n",
      "  valid_loss, valid_accuracy = model.evaluate_generator(generator = cross_val_set, verbose = 1)\n"
     ]
    },
    {
     "name": "stdout",
     "output_type": "stream",
     "text": [
      "36/36 [==============================] - 5s 101ms/step - loss: 0.6403 - accuracy: 0.8125\n",
      "Validation Accuracy:  81.25 %\n"
     ]
    }
   ],
   "source": [
    "valid_loss, valid_accuracy = model.evaluate_generator(generator = cross_val_set, verbose = 1)\n",
    "\n",
    "print('Validation Accuracy: ', round((valid_accuracy * 100), 2), \"%\")"
   ]
  },
  {
   "cell_type": "code",
   "execution_count": 57,
   "metadata": {
    "colab": {
     "base_uri": "https://localhost:8080/"
    },
    "id": "U5xgaRdF5DKL",
    "outputId": "42e384c1-ff8b-4150-e305-fbcd1458685b"
   },
   "outputs": [
    {
     "name": "stderr",
     "output_type": "stream",
     "text": [
      "<ipython-input-57-2be577224f92>:1: UserWarning: `Model.predict_generator` is deprecated and will be removed in a future version. Please use `Model.predict`, which supports generators.\n",
      "  y_pred = model.predict_generator(generator = test_set, verbose=1)\n"
     ]
    },
    {
     "name": "stdout",
     "output_type": "stream",
     "text": [
      "36/36 [==============================] - 4s 108ms/step\n"
     ]
    }
   ],
   "source": [
    "\n",
    "y_pred = model.predict_generator(generator = test_set, verbose=1)\n",
    "y_pred = np.argmax(y_pred, axis=1)\n",
    "\n"
   ]
  },
  {
   "cell_type": "code",
   "execution_count": 73,
   "metadata": {
    "colab": {
     "base_uri": "https://localhost:8080/"
    },
    "id": "HFnhXFr-84Wj",
    "outputId": "48addc8b-571d-42b2-9d2e-f1e74bf60883"
   },
   "outputs": [
    {
     "name": "stdout",
     "output_type": "stream",
     "text": [
      "Test Accuracy:  84.18 %\n"
     ]
    }
   ],
   "source": [
    "\n",
    "y_true = test_set.classes\n",
    "test_accuracy = accuracy_score(y_true, y_pred)\n",
    "\n",
    "print('Test Accuracy: ', round((test_accuracy * 100), 2), \"%\")"
   ]
  },
  {
   "cell_type": "code",
   "execution_count": 71,
   "metadata": {
    "colab": {
     "base_uri": "https://localhost:8080/",
     "height": 559
    },
    "id": "Nlahoi6IIM4u",
    "outputId": "deeb2918-07ec-414e-cf89-1d3d0915a178"
   },
   "outputs": [
    {
     "data": {
      "image/png": "[encoded data removed]",
      "text/plain": [
       "<Figure size 1296x576 with 2 Axes>"
      ]
     },
     "metadata": {
      "needs_background": "light"
     },
     "output_type": "display_data"
    }
   ],
   "source": [
    "plt.figure(figsize=(18,8))\n",
    "\n",
    "plt.suptitle('Loss and Accuracy Plots', fontsize=18)\n",
    "\n",
    "plt.subplot(1,2,1)\n",
    "plt.plot(model_history.history['loss'], label='Training Loss')\n",
    "plt.plot(model_history.history['val_loss'], label='Validation Loss')\n",
    "plt.legend()\n",
    "plt.xlabel('Number of epochs', fontsize=15)\n",
    "plt.ylabel('Loss', fontsize=15)\n",
    "\n",
    "plt.subplot(1,2,2)\n",
    "plt.plot(model_history.history['accuracy'], label='Train Accuracy')\n",
    "plt.plot(model_history.history['val_accuracy'], label='Validation Accuracy')\n",
    "plt.legend()\n",
    "plt.xlabel('Number of epochs', fontsize=14)\n",
    "plt.ylabel('Accuracy', fontsize=14)\n",
    "plt.show()"
   ]
  },
  {
   "cell_type": "code",
   "execution_count": 72,
   "metadata": {
    "colab": {
     "base_uri": "https://localhost:8080/"
    },
    "id": "e8fwyZBJI9zt",
    "outputId": "7f5d4cfd-441e-4c67-be80-758f35bd87c3"
   },
   "outputs": [
    {
     "name": "stdout",
     "output_type": "stream",
     "text": [
      "[[ 5  0  0  0  0  0  0  0  0  0  0  0  0  0  0  0  0  0  0  0]\n",
      " [ 0  6  0  0  0  1  0  0  0  0  0  0  0  0  0  0  0  0  0  0]\n",
      " [ 0  0 11  0  0  0  0  0  0  0  0  0  0  0  0  0  0  0  0  0]\n",
      " [ 0  0  0  7  0  0  1  0  0  0  0  1  0  0  0  0  0  0  0  0]\n",
      " [ 0  0  0  0  8  0  0  0  1  0  0  0  0  0  0  1  0  0  0  0]\n",
      " [ 0  0  0  0  0  8  0  1  0  0  0  0  0  0  0  0  0  0  1  0]\n",
      " [ 0  0  0  0  0  1  7  0  0  0  0  0  0  0  0  1  0  0  0  0]\n",
      " [ 0  0  0  0  0  0  0 10  0  1  0  2  0  0  0  0  0  0  0  0]\n",
      " [ 0  0  0  0  0  0  0  0  8  0  0  0  0  0  0  0  0  0  1  0]\n",
      " [ 0  0  0  0  0  0  0  0  0  6  0  0  0  0  0  0  0  0  0  0]\n",
      " [ 0  0  1  0  0  0  0  0  0  0  7  0  0  0  0  0  0  0  0  0]\n",
      " [ 0  0  0  0  0  0  0  0  0  0  0  6  0  0  0  0  0  0  0  0]\n",
      " [ 0  0  0  0  0  0  0  0  0  0  0  0  8  0  0  0  0  1  1  0]\n",
      " [ 0  0  0  0  0  1  0  0  0  0  0  0  0  7  1  0  0  0  1  0]\n",
      " [ 0  0  0  0  0  0  0  0  0  0  0  0  0  1 10  0  0  1  0  0]\n",
      " [ 0  0  0  0  2  0  0  1  0  0  0  0  0  0  0  7  0  0  0  0]\n",
      " [ 0  0  0  0  0  0  0  0  0  0  0  0  0  0  0  0  9  0  0  0]\n",
      " [ 0  0  0  0  0  0  0  0  0  0  0  0  0  1  0  0  0  8  0  0]\n",
      " [ 0  0  0  0  0  0  0  0  0  0  0  0  0  0  0  0  0  0  5  1]\n",
      " [ 0  0  0  0  0  0  0  0  0  0  0  0  0  0  0  0  0  0  2  6]]\n",
      "              precision    recall  f1-score   support\n",
      "\n",
      "           0      1.000     1.000     1.000         5\n",
      "           1      1.000     0.857     0.923         7\n",
      "           2      0.917     1.000     0.957        11\n",
      "           3      1.000     0.778     0.875         9\n",
      "           4      0.800     0.800     0.800        10\n",
      "           5      0.727     0.800     0.762        10\n",
      "           6      0.875     0.778     0.824         9\n",
      "           7      0.833     0.769     0.800        13\n",
      "           8      0.889     0.889     0.889         9\n",
      "           9      0.857     1.000     0.923         6\n",
      "          10      1.000     0.875     0.933         8\n",
      "          11      0.667     1.000     0.800         6\n",
      "          12      1.000     0.800     0.889        10\n",
      "          13      0.778     0.700     0.737        10\n",
      "          14      0.909     0.833     0.870        12\n",
      "          15      0.778     0.700     0.737        10\n",
      "          16      1.000     1.000     1.000         9\n",
      "          17      0.800     0.889     0.842         9\n",
      "          18      0.455     0.833     0.588         6\n",
      "          19      0.857     0.750     0.800         8\n",
      "\n",
      "    accuracy                          0.842       177\n",
      "   macro avg      0.857     0.853     0.847       177\n",
      "weighted avg      0.861     0.842     0.846       177\n",
      "\n"
     ]
    }
   ],
   "source": [
    "from sklearn import metrics\n",
    "print(metrics.confusion_matrix(y_true, y_pred))\n",
    "\n",
    "print(metrics.classification_report(y_true, y_pred, digits=3))"
   ]
  },
  {
   "cell_type": "markdown",
   "metadata": {
    "id": "FaE4CXR3QnY8"
   },
   "source": [
    "Ref: https://www.learndatasci.com/tutorials/hands-on-transfer-learning-keras/\n",
    "\n",
    "https://www.youtube.com/watch?v=fCtMf6qHtdk\n"
   ]
  }
 ],
 "metadata": {
  "colab": {
   "provenance": []
  },
  "gpuClass": "standard",
  "kernelspec": {
   "display_name": "Python 3",
   "language": "python",
   "name": "python3"
  },
  "language_info": {
   "codemirror_mode": {
    "name": "ipython",
    "version": 3
   },
   "file_extension": ".py",
   "mimetype": "text/x-python",
   "name": "python",
   "nbconvert_exporter": "python",
   "pygments_lexer": "ipython3",
   "version": "3.6.2"
  }
 },
 "nbformat": 4,
 "nbformat_minor": 1
}
