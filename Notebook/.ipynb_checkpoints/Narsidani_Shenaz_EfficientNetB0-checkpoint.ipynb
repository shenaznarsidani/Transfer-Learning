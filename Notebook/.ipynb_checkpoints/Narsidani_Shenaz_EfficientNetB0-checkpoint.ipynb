{
 "cells": [
  {
   "cell_type": "code",
   "execution_count": 1,
   "metadata": {
    "colab": {
     "base_uri": "https://localhost:8080/"
    },
    "id": "dytdciKg2Boa",
    "outputId": "bff7ebbf-00b7-4715-8f72-37d69e8c4a5d"
   },
   "outputs": [
    {
     "name": "stdout",
     "output_type": "stream",
     "text": [
      "Requirement already satisfied: opencv-python in c:\\users\\pc\\anaconda3\\lib\\site-packages (4.6.0.66)\n",
      "Requirement already satisfied: numpy>=1.13.3 in c:\\users\\pc\\anaconda3\\lib\\site-packages (from opencv-python) (1.19.5)\n"
     ]
    }
   ],
   "source": [
    "!pip install opencv-python\n"
   ]
  },
  {
   "cell_type": "code",
   "execution_count": 2,
   "metadata": {
    "collapsed": true,
    "id": "n_fdlhie2Boe"
   },
   "outputs": [],
   "source": [
    "import os\n",
    "import pandas as pd\n",
    "import cv2\n",
    "import numpy as np\n",
    "import shutil, os"
   ]
  },
  {
   "cell_type": "code",
   "execution_count": 3,
   "metadata": {
    "colab": {
     "base_uri": "https://localhost:8080/"
    },
    "id": "R4v-FMb_2Bog",
    "outputId": "248cfb70-528b-4124-9512-1362d95dfdca"
   },
   "outputs": [
    {
     "name": "stdout",
     "output_type": "stream",
     "text": [
      "['005.Crested_Auklet', '013.Bobolink', '015.Lazuli_Bunting', '023.Brandt_Cormorant', '040.Olive_sided_Flycatcher', '041.Scissor_tailed_Flycatcher', '067.Anna_Hummingbird', '072.Pomarine_Jaeger', '076.Dark_eyed_Junco', '081.Pied_Kingfisher', '082.Ringed_Kingfisher', '086.Pacific_Loon', '099.Ovenbird', '104.American_Pipit', '127.Savannah_Sparrow', '135.Bank_Swallow', '141.Artic_Tern', '149.Brown_Thrasher', '156.White_eyed_Vireo', '168.Kentucky_Warbler']\n",
      "Types of classes labels found:  20\n"
     ]
    }
   ],
   "source": [
    "\n",
    "data_path = '../Data/images'\n",
    "#data_path = './images'\n",
    "class_folders = os.listdir(data_path)\n",
    "print (class_folders)  #what kinds of classes are in this dataset\n",
    "\n",
    "print(\"Types of classes labels found: \", len(class_folders))"
   ]
  },
  {
   "cell_type": "code",
   "execution_count": 4,
   "metadata": {
    "collapsed": true,
    "id": "dK6gN4i62Boh"
   },
   "outputs": [],
   "source": [
    "class_labels = []\n",
    "im_size = 224\n",
    "images = []\n",
    "labels = []\n",
    "for class_folder in class_folders:\n",
    "    class_images = os.listdir(data_path+'/'+class_folder)\n",
    "    #print(images)\n",
    "    for image in class_images:\n",
    "        image_path = str(data_path+'/'+class_folder) + '/' + image\n",
    "        class_labels.append((class_folder, image_path))\n",
    "        img = cv2.imread(image_path)\n",
    "        #print(image_path)\n",
    "        #img = cv2.resize(img, (im_size, im_size))\n",
    "        images.append(img)\n",
    "        labels.append(class_folder)\n",
    "        #print((class_name, str(data_path+'/'+class_name) + '/' + image))\n",
    "#print(class_labels)"
   ]
  },
  {
   "cell_type": "code",
   "execution_count": 5,
   "metadata": {
    "id": "oCe5pKc92Boi"
   },
   "outputs": [
    {
     "name": "stdout",
     "output_type": "stream",
     "text": [
      "               Labels                                              image\n",
      "0  005.Crested_Auklet  ../Data/images/005.Crested_Auklet/Crested_Aukl...\n",
      "1  005.Crested_Auklet  ../Data/images/005.Crested_Auklet/Crested_Aukl...\n",
      "2  005.Crested_Auklet  ../Data/images/005.Crested_Auklet/Crested_Aukl...\n",
      "3  005.Crested_Auklet  ../Data/images/005.Crested_Auklet/Crested_Aukl...\n",
      "4  005.Crested_Auklet  ../Data/images/005.Crested_Auklet/Crested_Aukl...\n"
     ]
    }
   ],
   "source": [
    "df = pd.DataFrame(data=class_labels, columns=['Labels', 'image'])\n",
    "print(df.head())\n",
    "#print(df.tail())"
   ]
  },
  {
   "cell_type": "code",
   "execution_count": 7,
   "metadata": {
    "colab": {
     "base_uri": "https://localhost:8080/"
    },
    "id": "VF9U4Z9ntkYD",
    "outputId": "27bc8204-301a-4e4e-b86b-b13bde2b4721"
   },
   "outputs": [
    {
     "name": "stderr",
     "output_type": "stream",
     "text": [
      "<ipython-input-7-2bbd740f17cb>:1: VisibleDeprecationWarning: Creating an ndarray from ragged nested sequences (which is a list-or-tuple of lists-or-tuples-or ndarrays with different lengths or shapes) is deprecated. If you meant to do this, you must specify 'dtype=object' when creating the ndarray.\n",
      "  images = np.array(images)\n"
     ]
    }
   ],
   "source": [
    "images = np.array(images)"
   ]
  },
  {
   "cell_type": "code",
   "execution_count": 9,
   "metadata": {
    "colab": {
     "base_uri": "https://localhost:8080/"
    },
    "id": "5m5wIH4M2Bok",
    "outputId": "97cc6ac6-c553-40cf-ffe6-e63070e54aae"
   },
   "outputs": [
    {
     "name": "stdout",
     "output_type": "stream",
     "text": [
      "['104.American_Pipit' '104.American_Pipit' '104.American_Pipit' ...\n",
      " '149.Brown_Thrasher' '149.Brown_Thrasher' '149.Brown_Thrasher']\n",
      "[13 13 13 ... 17 17 17] 1176\n",
      "{0, 1, 2, 3, 4, 5, 6, 7, 8, 9, 10, 11, 12, 13, 14, 15, 16, 17, 18, 19}\n"
     ]
    }
   ],
   "source": [
    "from sklearn.preprocessing import LabelEncoder , OneHotEncoder\n",
    "y=df['Labels'].values\n",
    "print(y)\n",
    "\n",
    "y_labelencoder = LabelEncoder ()\n",
    "y = y_labelencoder.fit_transform (y)\n",
    "print (y, len(y))\n",
    "print(set(y))"
   ]
  },
  {
   "cell_type": "code",
   "execution_count": 10,
   "metadata": {
    "colab": {
     "base_uri": "https://localhost:8080/"
    },
    "id": "S-gV3wwzv0jp",
    "outputId": "3a875796-b8f6-418e-c86f-68d10b1a6a9f"
   },
   "outputs": [
    {
     "name": "stdout",
     "output_type": "stream",
     "text": [
      "[[13]\n",
      " [13]\n",
      " [13]\n",
      " ...\n",
      " [17]\n",
      " [17]\n",
      " [17]]\n",
      "[[0. 0. 0. 0. 0. 0. 0. 0. 0. 0. 0. 0. 0. 1. 0. 0. 0. 0. 0. 0.]\n",
      " [0. 0. 0. 0. 0. 0. 0. 0. 0. 0. 0. 0. 0. 1. 0. 0. 0. 0. 0. 0.]\n",
      " [0. 0. 0. 0. 0. 0. 0. 0. 0. 0. 0. 0. 0. 1. 0. 0. 0. 0. 0. 0.]\n",
      " [0. 0. 0. 0. 0. 0. 0. 0. 0. 0. 0. 0. 0. 1. 0. 0. 0. 0. 0. 0.]\n",
      " [0. 0. 0. 0. 0. 0. 0. 0. 0. 0. 0. 0. 0. 1. 0. 0. 0. 0. 0. 0.]]\n"
     ]
    }
   ],
   "source": [
    "y=y.reshape(-1,1)\n",
    "print(y)\n",
    "encoder = OneHotEncoder(handle_unknown='ignore', sparse = False)\n",
    "\n",
    "encoded_y = encoder.fit_transform(y)\n",
    "\n",
    "print(encoded_y[0:5])"
   ]
  },
  {
   "cell_type": "code",
   "execution_count": 11,
   "metadata": {
    "colab": {
     "base_uri": "https://localhost:8080/"
    },
    "id": "4lACKHTM2Bol",
    "outputId": "b6b80ea6-dcf8-48b7-91e0-0c605251c868"
   },
   "outputs": [
    {
     "name": "stdout",
     "output_type": "stream",
     "text": [
      "(823,)\n",
      "(177,)\n",
      "(176,)\n",
      "(823, 20)\n",
      "(177, 20)\n",
      "(176, 20)\n"
     ]
    }
   ],
   "source": [
    "from sklearn.model_selection import train_test_split\n",
    "from sklearn.utils import shuffle\n",
    "\n",
    "images, encoded_y = shuffle(images, encoded_y, random_state = 5)\n",
    "X_train, X_test, y_train, y_test = train_test_split(images, encoded_y,\n",
    "                                                    stratify=y, \n",
    "                                                    test_size=0.3)\n",
    "X_cross_val, X_test, y_cross_val, y_test = train_test_split(X_test, y_test,\n",
    "                                                    stratify=y_test, \n",
    "                                                    test_size=0.5)\n",
    "#print(len(set(y_train)), len(set(y_test)), len(set(y_cross_val)))\n",
    "print(X_train.shape)\n",
    "print(X_test.shape)\n",
    "print(X_cross_val.shape)\n",
    "\n",
    "print(y_train.shape)\n",
    "print(y_test.shape)\n",
    "print(y_cross_val.shape)"
   ]
  },
  {
   "cell_type": "code",
   "execution_count": 12,
   "metadata": {
    "collapsed": true,
    "id": "i8DcrSyedIWt"
   },
   "outputs": [],
   "source": [
    "n_classes = 20\n",
    "image_size = 224\n",
    "channels = 3"
   ]
  },
  {
   "cell_type": "code",
   "execution_count": 13,
   "metadata": {
    "collapsed": true,
    "id": "dVYMIbDVl-f4"
   },
   "outputs": [],
   "source": [
    "import cv2\n",
    "import numpy as np\n",
    "from matplotlib.pyplot import imread\n",
    "from matplotlib.pyplot import imshow\n",
    "from tensorflow.keras.preprocessing import image\n",
    "from tensorflow.keras.applications.imagenet_utils import decode_predictions\n",
    "from tensorflow.keras.applications.imagenet_utils import preprocess_input\n",
    "from tensorflow.keras import layers\n",
    "from tensorflow.keras.applications import EfficientNetB0\n",
    "import numpy as np\n",
    "import tensorflow as tf\n",
    "from tensorflow.keras import activations"
   ]
  },
  {
   "cell_type": "code",
   "execution_count": 16,
   "metadata": {
    "colab": {
     "base_uri": "https://localhost:8080/"
    },
    "id": "4QzYvrghYsfe",
    "outputId": "85776f39-f89b-4998-9448-596b981b9ad8"
   },
   "outputs": [
    {
     "name": "stdout",
     "output_type": "stream",
     "text": [
      "Looking in indexes: https://pypi.org/simple, https://us-python.pkg.dev/colab-wheels/public/simple/\n",
      "Collecting segmentation-models\n",
      "  Downloading segmentation_models-1.0.1-py3-none-any.whl (33 kB)\n",
      "Collecting keras-applications<=1.0.8,>=1.0.7\n",
      "  Downloading Keras_Applications-1.0.8-py3-none-any.whl (50 kB)\n",
      "\u001b[K     |████████████████████████████████| 50 kB 5.7 MB/s \n",
      "\u001b[?25hCollecting efficientnet==1.0.0\n",
      "  Downloading efficientnet-1.0.0-py3-none-any.whl (17 kB)\n",
      "Collecting image-classifiers==1.0.0\n",
      "  Downloading image_classifiers-1.0.0-py3-none-any.whl (19 kB)\n",
      "Requirement already satisfied: scikit-image in /usr/local/lib/python3.8/dist-packages (from efficientnet==1.0.0->segmentation-models) (0.18.3)\n",
      "Requirement already satisfied: numpy>=1.9.1 in /usr/local/lib/python3.8/dist-packages (from keras-applications<=1.0.8,>=1.0.7->segmentation-models) (1.21.6)\n",
      "Requirement already satisfied: h5py in /usr/local/lib/python3.8/dist-packages (from keras-applications<=1.0.8,>=1.0.7->segmentation-models) (3.1.0)\n",
      "Requirement already satisfied: tifffile>=2019.7.26 in /usr/local/lib/python3.8/dist-packages (from scikit-image->efficientnet==1.0.0->segmentation-models) (2022.10.10)\n",
      "Requirement already satisfied: imageio>=2.3.0 in /usr/local/lib/python3.8/dist-packages (from scikit-image->efficientnet==1.0.0->segmentation-models) (2.9.0)\n",
      "Requirement already satisfied: matplotlib!=3.0.0,>=2.0.0 in /usr/local/lib/python3.8/dist-packages (from scikit-image->efficientnet==1.0.0->segmentation-models) (3.2.2)\n",
      "Requirement already satisfied: pillow!=7.1.0,!=7.1.1,>=4.3.0 in /usr/local/lib/python3.8/dist-packages (from scikit-image->efficientnet==1.0.0->segmentation-models) (7.1.2)\n",
      "Requirement already satisfied: PyWavelets>=1.1.1 in /usr/local/lib/python3.8/dist-packages (from scikit-image->efficientnet==1.0.0->segmentation-models) (1.4.1)\n",
      "Requirement already satisfied: scipy>=1.0.1 in /usr/local/lib/python3.8/dist-packages (from scikit-image->efficientnet==1.0.0->segmentation-models) (1.7.3)\n",
      "Requirement already satisfied: networkx>=2.0 in /usr/local/lib/python3.8/dist-packages (from scikit-image->efficientnet==1.0.0->segmentation-models) (2.8.8)\n",
      "Requirement already satisfied: kiwisolver>=1.0.1 in /usr/local/lib/python3.8/dist-packages (from matplotlib!=3.0.0,>=2.0.0->scikit-image->efficientnet==1.0.0->segmentation-models) (1.4.4)\n",
      "Requirement already satisfied: cycler>=0.10 in /usr/local/lib/python3.8/dist-packages (from matplotlib!=3.0.0,>=2.0.0->scikit-image->efficientnet==1.0.0->segmentation-models) (0.11.0)\n",
      "Requirement already satisfied: python-dateutil>=2.1 in /usr/local/lib/python3.8/dist-packages (from matplotlib!=3.0.0,>=2.0.0->scikit-image->efficientnet==1.0.0->segmentation-models) (2.8.2)\n",
      "Requirement already satisfied: pyparsing!=2.0.4,!=2.1.2,!=2.1.6,>=2.0.1 in /usr/local/lib/python3.8/dist-packages (from matplotlib!=3.0.0,>=2.0.0->scikit-image->efficientnet==1.0.0->segmentation-models) (3.0.9)\n",
      "Requirement already satisfied: six>=1.5 in /usr/local/lib/python3.8/dist-packages (from python-dateutil>=2.1->matplotlib!=3.0.0,>=2.0.0->scikit-image->efficientnet==1.0.0->segmentation-models) (1.15.0)\n",
      "Installing collected packages: keras-applications, image-classifiers, efficientnet, segmentation-models\n",
      "Successfully installed efficientnet-1.0.0 image-classifiers-1.0.0 keras-applications-1.0.8 segmentation-models-1.0.1\n"
     ]
    }
   ],
   "source": [
    "!pip install -U segmentation-models"
   ]
  },
  {
   "cell_type": "code",
   "execution_count": 17,
   "metadata": {
    "collapsed": true,
    "id": "doCKf8VeX88u"
   },
   "outputs": [],
   "source": [
    "from sklearn.model_selection import StratifiedShuffleSplit\n",
    "import cv2\n",
    "import albumentations as albu\n",
    "from skimage.transform import resize\n",
    "import numpy as np\n",
    "import pandas as pd\n",
    "import matplotlib.pyplot as plt\n",
    "from pylab import rcParams\n",
    "from sklearn.metrics import accuracy_score, confusion_matrix, classification_report\n",
    "from keras.callbacks import Callback, EarlyStopping, ReduceLROnPlateau\n",
    "import tensorflow as tf\n",
    "import keras\n",
    "from keras.models import Sequential, load_model\n",
    "from keras.layers import Dropout, Dense, GlobalAveragePooling2D, MaxPooling2D\n",
    "from keras.layers import BatchNormalization,Activation\n",
    "from keras.optimizers import Adam\n",
    "import efficientnet.keras as efn"
   ]
  },
  {
   "cell_type": "code",
   "execution_count": 18,
   "metadata": {
    "collapsed": true,
    "id": "whOnozfjY2md"
   },
   "outputs": [],
   "source": [
    "batch_size = 5"
   ]
  },
  {
   "cell_type": "code",
   "execution_count": 19,
   "metadata": {
    "collapsed": true,
    "id": "TBPmo_3FZ1pC"
   },
   "outputs": [],
   "source": [
    "def resize_img(img, shape):\n",
    "    return cv2.resize(img, (shape[1], shape[0]), interpolation=cv2.INTER_CUBIC)"
   ]
  },
  {
   "cell_type": "markdown",
   "metadata": {
    "id": "rBWfHuE0TUuc"
   },
   "source": [
    "ref: https://towardsdatascience.com/cifar-100-transfer-learning-using-efficientnet-ed3ed7b89af2"
   ]
  },
  {
   "cell_type": "code",
   "execution_count": 20,
   "metadata": {
    "collapsed": true,
    "id": "yRf1Ir9_XmCS"
   },
   "outputs": [],
   "source": [
    "class DataGenerator(keras.utils.Sequence):\n",
    "    def __init__(self, images, labels=None, mode='fit', batch_size=batch_size, dim=(image_size, image_size), channels=channels, n_classes=n_classes, shuffle=True, augment=False):\n",
    "        \n",
    "        #initializing the configuration of the generator\n",
    "        self.images = images\n",
    "        self.labels = labels\n",
    "        self.mode = mode\n",
    "        self.batch_size = batch_size\n",
    "        self.dim = dim\n",
    "        self.channels = channels\n",
    "        self.n_classes = n_classes\n",
    "        self.shuffle = shuffle\n",
    "        self.augment = augment\n",
    "        self.on_epoch_end()\n",
    "   \n",
    "    #method to be called after every epoch\n",
    "    def on_epoch_end(self):\n",
    "        self.indexes = np.arange(self.images.shape[0])\n",
    "        if self.shuffle == True:\n",
    "            np.random.shuffle(self.indexes)\n",
    "    \n",
    "    #return numbers of steps in an epoch using samples & batch size\n",
    "    def __len__(self):\n",
    "        return int(np.floor(len(self.images) / self.batch_size))\n",
    "    \n",
    "    #this method is called with the batch number as an argument to #obtain a given batch of data\n",
    "    def __getitem__(self, index):\n",
    "        #generate one batch of data\n",
    "        #generate indexes of batch\n",
    "        batch_indexes = self.indexes[index * self.batch_size:(index+1) * self.batch_size]\n",
    "        \n",
    "        #generate mini-batch of X\n",
    "        X = np.empty((self.batch_size, *self.dim, self.channels))\n",
    "        for i, ID in enumerate(batch_indexes):\n",
    "            #generate pre-processed image\n",
    "            img = self.images[ID]\n",
    "            #image rescaling\n",
    "            img = img.astype(np.float32)/255.\n",
    "            #resizing as per new dimensions\n",
    "            img = resize_img(img, self.dim)\n",
    "            X[i] = img\n",
    "            \n",
    "        #generate mini-batch of y\n",
    "        if self.mode == 'fit':\n",
    "            y = self.labels[batch_indexes]\n",
    "            \n",
    "            #augmentation on the training dataset\n",
    "            if self.augment == True:\n",
    "                X = self.__augment_batch(X)\n",
    "            return X, y\n",
    "        \n",
    "        elif self.mode == 'predict':\n",
    "            return X\n",
    "        \n",
    "        else:\n",
    "            raise AttributeError(\"The mode should be set to either 'fit' or 'predict'.\")\n",
    "            \n",
    "    #augmentation for one image\n",
    "    def __random_transform(self, img):\n",
    "        composition = albu.Compose([albu.HorizontalFlip(p=0.5),\n",
    "                                   albu.VerticalFlip(p=0.5),\n",
    "                                   albu.GridDistortion(p=0.2),\n",
    "                                   albu.ElasticTransform(p=0.2)])\n",
    "        return composition(image=img)['image']\n",
    "    \n",
    "    #augmentation for batch of images\n",
    "    def __augment_batch(self, img_batch):\n",
    "        for i in range(img_batch.shape[0]):\n",
    "            img_batch[i] = self.__random_transform(img_batch[i])\n",
    "        return img_batch\n"
   ]
  },
  {
   "cell_type": "code",
   "execution_count": 23,
   "metadata": {
    "collapsed": true,
    "id": "zGPBxM_zm-CS"
   },
   "outputs": [],
   "source": [
    "train_data_generator = DataGenerator(X_train, y_train, augment=True) \n",
    "valid_data_generator = DataGenerator(X_cross_val, y_cross_val, augment=False)\n"
   ]
  },
  {
   "cell_type": "code",
   "execution_count": 22,
   "metadata": {
    "colab": {
     "base_uri": "https://localhost:8080/"
    },
    "id": "YMHAvQLhP8Ho",
    "outputId": "aecb1fd2-4fd7-4539-9a64-df3d328733a7"
   },
   "outputs": [
    {
     "name": "stdout",
     "output_type": "stream",
     "text": [
      "Downloading data from https://github.com/Callidior/keras-applications/releases/download/efficientnet/efficientnet-b0_weights_tf_dim_ordering_tf_kernels_autoaugment_notop.h5\n",
      "16804768/16804768 [==============================] - 0s 0us/step\n"
     ]
    }
   ],
   "source": [
    "efnb0 = efn.EfficientNetB0(weights='imagenet', include_top=False, input_shape=(image_size, image_size, channels), classes=n_classes)\n",
    "efnb0.trainable = False#\n"
   ]
  },
  {
   "cell_type": "code",
   "execution_count": 28,
   "metadata": {
    "colab": {
     "base_uri": "https://localhost:8080/"
    },
    "id": "N9_tOa86a66y",
    "outputId": "0ff28fd5-5af8-4af1-acc5-57ae66499fce"
   },
   "outputs": [
    {
     "name": "stdout",
     "output_type": "stream",
     "text": [
      "Model: \"sequential_1\"\n",
      "_________________________________________________________________\n",
      " Layer (type)                Output Shape              Param #   \n",
      "=================================================================\n",
      " efficientnet-b0 (Functional  (None, 7, 7, 1280)       4049564   \n",
      " )                                                               \n",
      "                                                                 \n",
      " batch_normalization_2 (Batc  (None, 7, 7, 1280)       5120      \n",
      " hNormalization)                                                 \n",
      "                                                                 \n",
      " global_average_pooling2d_1   (None, 1280)             0         \n",
      " (GlobalAveragePooling2D)                                        \n",
      "                                                                 \n",
      " activation_1 (Activation)   (None, 1280)              0         \n",
      "                                                                 \n",
      " dropout_1 (Dropout)         (None, 1280)              0         \n",
      "                                                                 \n",
      " dense_1 (Dense)             (None, 20)                25620     \n",
      "                                                                 \n",
      "=================================================================\n",
      "Total params: 4,080,304\n",
      "Trainable params: 28,180\n",
      "Non-trainable params: 4,052,124\n",
      "_________________________________________________________________\n"
     ]
    }
   ],
   "source": [
    "model = Sequential()\n",
    "model.add(efnb0)\n",
    "#model.add(MaxPooling2D())#\n",
    "model.add(BatchNormalization())#\n",
    "model.add(GlobalAveragePooling2D())\n",
    "model.add(Activation('relu'))#\n",
    "#model.add(GlobalAveragePooling2D())\n",
    "model.add(Dropout(0.2))\n",
    "model.add(Dense(n_classes, activation='softmax'))\n",
    "\n",
    "model.summary()"
   ]
  },
  {
   "cell_type": "code",
   "execution_count": 29,
   "metadata": {
    "collapsed": true,
    "id": "Nvrkp2pVknXa"
   },
   "outputs": [],
   "source": [
    "optimizer = Adam(learning_rate=0.001)\n",
    "\n",
    "early_stop = EarlyStopping(monitor='val_loss', mode='min', verbose=1, patience=10, restore_best_weights=True)\n",
    "rlrop = ReduceLROnPlateau(monitor='val_loss', mode='min', patience= 5, factor= 0.5, min_lr= 1e-6, verbose=1)\n",
    "model.compile(optimizer=optimizer, loss='categorical_crossentropy', metrics=['accuracy'])"
   ]
  },
  {
   "cell_type": "code",
   "execution_count": 30,
   "metadata": {
    "collapsed": true,
    "id": "v9YbRnc8nXLC"
   },
   "outputs": [],
   "source": [
    "epochs = 50"
   ]
  },
  {
   "cell_type": "code",
   "execution_count": 31,
   "metadata": {
    "colab": {
     "base_uri": "https://localhost:8080/"
    },
    "id": "b4_cKpnaZPqk",
    "outputId": "cc2fde00-b259-4406-e2f9-e082ea317e31"
   },
   "outputs": [
    {
     "name": "stdout",
     "output_type": "stream",
     "text": [
      "Epoch 1/50\n"
     ]
    },
    {
     "name": "stderr",
     "output_type": "stream",
     "text": [
      "<ipython-input-31-258dea1afe5e>:2: UserWarning: `Model.fit_generator` is deprecated and will be removed in a future version. Please use `Model.fit`, which supports generators.\n",
      "  model_history = model.fit_generator(train_data_generator, validation_data = valid_data_generator, callbacks = [early_stop, rlrop],verbose = 1, epochs = epochs)\n"
     ]
    },
    {
     "name": "stdout",
     "output_type": "stream",
     "text": [
      "164/164 [==============================] - 22s 98ms/step - loss: 2.5628 - accuracy: 0.2610 - val_loss: 1.8344 - val_accuracy: 0.5314 - lr: 0.0010\n",
      "Epoch 2/50\n",
      "164/164 [==============================] - 13s 82ms/step - loss: 1.8895 - accuracy: 0.5244 - val_loss: 1.3611 - val_accuracy: 0.6914 - lr: 0.0010\n",
      "Epoch 3/50\n",
      "164/164 [==============================] - 13s 80ms/step - loss: 1.5206 - accuracy: 0.6232 - val_loss: 1.0930 - val_accuracy: 0.7029 - lr: 0.0010\n",
      "Epoch 4/50\n",
      "164/164 [==============================] - 13s 80ms/step - loss: 1.2919 - accuracy: 0.6598 - val_loss: 0.8973 - val_accuracy: 0.7829 - lr: 0.0010\n",
      "Epoch 5/50\n",
      "164/164 [==============================] - 13s 82ms/step - loss: 1.1518 - accuracy: 0.6951 - val_loss: 0.8299 - val_accuracy: 0.8057 - lr: 0.0010\n",
      "Epoch 6/50\n",
      "164/164 [==============================] - 13s 81ms/step - loss: 1.0732 - accuracy: 0.7085 - val_loss: 0.8030 - val_accuracy: 0.7886 - lr: 0.0010\n",
      "Epoch 7/50\n",
      "164/164 [==============================] - 13s 82ms/step - loss: 0.9444 - accuracy: 0.7512 - val_loss: 0.7036 - val_accuracy: 0.8057 - lr: 0.0010\n",
      "Epoch 8/50\n",
      "164/164 [==============================] - 13s 80ms/step - loss: 0.9411 - accuracy: 0.7341 - val_loss: 0.7580 - val_accuracy: 0.8000 - lr: 0.0010\n",
      "Epoch 9/50\n",
      "164/164 [==============================] - 14s 83ms/step - loss: 0.8073 - accuracy: 0.7707 - val_loss: 0.6938 - val_accuracy: 0.8229 - lr: 0.0010\n",
      "Epoch 10/50\n",
      "164/164 [==============================] - 14s 85ms/step - loss: 0.8084 - accuracy: 0.7744 - val_loss: 0.7494 - val_accuracy: 0.7943 - lr: 0.0010\n",
      "Epoch 11/50\n",
      "164/164 [==============================] - 15s 90ms/step - loss: 0.7638 - accuracy: 0.7902 - val_loss: 0.6553 - val_accuracy: 0.8114 - lr: 0.0010\n",
      "Epoch 12/50\n",
      "164/164 [==============================] - 14s 87ms/step - loss: 0.7682 - accuracy: 0.7756 - val_loss: 0.6976 - val_accuracy: 0.8114 - lr: 0.0010\n",
      "Epoch 13/50\n",
      "164/164 [==============================] - 12s 75ms/step - loss: 0.6713 - accuracy: 0.8073 - val_loss: 0.6780 - val_accuracy: 0.8114 - lr: 0.0010\n",
      "Epoch 14/50\n",
      "164/164 [==============================] - 14s 83ms/step - loss: 0.6463 - accuracy: 0.8207 - val_loss: 0.7108 - val_accuracy: 0.8171 - lr: 0.0010\n",
      "Epoch 15/50\n",
      "164/164 [==============================] - 13s 77ms/step - loss: 0.6617 - accuracy: 0.8159 - val_loss: 0.6793 - val_accuracy: 0.7943 - lr: 0.0010\n",
      "Epoch 16/50\n",
      "164/164 [==============================] - 13s 81ms/step - loss: 0.6204 - accuracy: 0.8268 - val_loss: 0.6195 - val_accuracy: 0.8171 - lr: 0.0010\n",
      "Epoch 17/50\n",
      "164/164 [==============================] - 16s 97ms/step - loss: 0.5771 - accuracy: 0.8463 - val_loss: 0.6288 - val_accuracy: 0.8229 - lr: 0.0010\n",
      "Epoch 18/50\n",
      "164/164 [==============================] - 14s 86ms/step - loss: 0.6045 - accuracy: 0.8195 - val_loss: 0.6436 - val_accuracy: 0.8286 - lr: 0.0010\n",
      "Epoch 19/50\n",
      "164/164 [==============================] - 18s 108ms/step - loss: 0.6154 - accuracy: 0.8171 - val_loss: 0.6179 - val_accuracy: 0.8286 - lr: 0.0010\n",
      "Epoch 20/50\n",
      "164/164 [==============================] - 19s 116ms/step - loss: 0.5734 - accuracy: 0.8451 - val_loss: 0.6333 - val_accuracy: 0.8171 - lr: 0.0010\n",
      "Epoch 21/50\n",
      "164/164 [==============================] - 14s 86ms/step - loss: 0.5389 - accuracy: 0.8378 - val_loss: 0.6512 - val_accuracy: 0.8171 - lr: 0.0010\n",
      "Epoch 22/50\n",
      "164/164 [==============================] - 13s 81ms/step - loss: 0.5113 - accuracy: 0.8561 - val_loss: 0.6242 - val_accuracy: 0.8286 - lr: 0.0010\n",
      "Epoch 23/50\n",
      "164/164 [==============================] - 15s 90ms/step - loss: 0.4961 - accuracy: 0.8598 - val_loss: 0.6598 - val_accuracy: 0.8229 - lr: 0.0010\n",
      "Epoch 24/50\n",
      "163/164 [============================>.] - ETA: 0s - loss: 0.5518 - accuracy: 0.8319\n",
      "Epoch 24: ReduceLROnPlateau reducing learning rate to 0.0005000000237487257.\n",
      "164/164 [==============================] - 16s 95ms/step - loss: 0.5498 - accuracy: 0.8329 - val_loss: 0.6923 - val_accuracy: 0.7886 - lr: 0.0010\n",
      "Epoch 25/50\n",
      "164/164 [==============================] - 14s 85ms/step - loss: 0.5177 - accuracy: 0.8512 - val_loss: 0.6192 - val_accuracy: 0.8171 - lr: 5.0000e-04\n",
      "Epoch 26/50\n",
      "164/164 [==============================] - 16s 98ms/step - loss: 0.5032 - accuracy: 0.8488 - val_loss: 0.6412 - val_accuracy: 0.8114 - lr: 5.0000e-04\n",
      "Epoch 27/50\n",
      "164/164 [==============================] - 14s 85ms/step - loss: 0.5332 - accuracy: 0.8646 - val_loss: 0.6261 - val_accuracy: 0.8114 - lr: 5.0000e-04\n",
      "Epoch 28/50\n",
      "164/164 [==============================] - 14s 86ms/step - loss: 0.4588 - accuracy: 0.8720 - val_loss: 0.6631 - val_accuracy: 0.8114 - lr: 5.0000e-04\n",
      "Epoch 29/50\n",
      "164/164 [==============================] - ETA: 0s - loss: 0.4912 - accuracy: 0.8598Restoring model weights from the end of the best epoch: 19.\n",
      "\n",
      "Epoch 29: ReduceLROnPlateau reducing learning rate to 0.0002500000118743628.\n",
      "164/164 [==============================] - 15s 90ms/step - loss: 0.4912 - accuracy: 0.8598 - val_loss: 0.6764 - val_accuracy: 0.8000 - lr: 5.0000e-04\n",
      "Epoch 29: early stopping\n"
     ]
    }
   ],
   "source": [
    "with tf.device('/GPU:0'):\n",
    "    model_history = model.fit_generator(train_data_generator, validation_data = valid_data_generator, callbacks = [early_stop, rlrop],verbose = 1, epochs = epochs)"
   ]
  },
  {
   "cell_type": "code",
   "execution_count": 32,
   "metadata": {
    "collapsed": true,
    "id": "FoD3DgH5LXdx"
   },
   "outputs": [],
   "source": [
    "model.save_weights(\"bird_efficientnetb0_weights\")"
   ]
  },
  {
   "cell_type": "code",
   "execution_count": 33,
   "metadata": {
    "colab": {
     "base_uri": "https://localhost:8080/"
    },
    "id": "A7ma8rf_M0Am",
    "outputId": "a8282788-6ec6-490c-f216-98caa425b251"
   },
   "outputs": [
    {
     "name": "stdout",
     "output_type": "stream",
     "text": [
      " 4/35 [==>...........................] - ETA: 0s - loss: 0.4070 - accuracy: 0.8500"
     ]
    },
    {
     "name": "stderr",
     "output_type": "stream",
     "text": [
      "<ipython-input-33-f6ffc86a03ce>:1: UserWarning: `Model.evaluate_generator` is deprecated and will be removed in a future version. Please use `Model.evaluate`, which supports generators.\n",
      "  valid_loss, valid_accuracy = model.evaluate_generator(generator = valid_data_generator, verbose = 1)\n"
     ]
    },
    {
     "name": "stdout",
     "output_type": "stream",
     "text": [
      "35/35 [==============================] - 1s 22ms/step - loss: 0.6180 - accuracy: 0.8286\n",
      "Validation Accuracy:  82.86 %\n"
     ]
    }
   ],
   "source": [
    "valid_loss, valid_accuracy = model.evaluate_generator(generator = valid_data_generator, verbose = 1)\n",
    "\n",
    "print('Validation Accuracy: ', round((valid_accuracy * 100), 2), \"%\")"
   ]
  },
  {
   "cell_type": "code",
   "execution_count": 34,
   "metadata": {
    "colab": {
     "base_uri": "https://localhost:8080/"
    },
    "id": "Y4OafyeQNq8M",
    "outputId": "54ce5bf6-8b75-432d-c73f-52cca60161e2"
   },
   "outputs": [
    {
     "name": "stdout",
     "output_type": "stream",
     "text": [
      "<__main__.DataGenerator object at 0x7f8e07159be0>\n"
     ]
    },
    {
     "name": "stderr",
     "output_type": "stream",
     "text": [
      "<ipython-input-34-8ca1f5a25e26>:3: UserWarning: `Model.predict_generator` is deprecated and will be removed in a future version. Please use `Model.predict`, which supports generators.\n",
      "  y_pred = model.predict_generator(generator = test_data_generator, verbose=1)\n"
     ]
    },
    {
     "name": "stdout",
     "output_type": "stream",
     "text": [
      "1/1 [==============================] - 5s 5s/step\n",
      "Test Accuracy:  81.92 %\n"
     ]
    }
   ],
   "source": [
    "test_data_generator = DataGenerator(images = X_test, mode='predict', augment=False, shuffle=False, batch_size= len(X_test))\n",
    "print(test_data_generator)\n",
    "y_pred = model.predict_generator(generator = test_data_generator, verbose=1)\n",
    "#pred_generator = DataGenerator(X_test, y_test, augment=False, shuffle=False, to_fit=False)\n",
    "y_pred = np.argmax(y_pred, axis=1)\n",
    "\n",
    "test_accuracy = accuracy_score(np.argmax(y_test, axis=1), y_pred)\n",
    "\n",
    "print('Test Accuracy: ', round((test_accuracy * 100), 2), \"%\")"
   ]
  },
  {
   "cell_type": "code",
   "execution_count": 35,
   "metadata": {
    "colab": {
     "base_uri": "https://localhost:8080/",
     "height": 559
    },
    "id": "O2-G8VCSIbdQ",
    "outputId": "dbb6378c-b71e-457c-dca5-98ec313c1a56"
   },
   "outputs": [
    {
     "data": {
      "image/png": "[encoded data removed]",
      "text/plain": [
       "<Figure size 1296x576 with 2 Axes>"
      ]
     },
     "metadata": {
      "needs_background": "light"
     },
     "output_type": "display_data"
    }
   ],
   "source": [
    "plt.figure(figsize=(18,8))\n",
    "\n",
    "plt.suptitle('Loss and Accuracy Plots', fontsize=18)\n",
    "\n",
    "plt.subplot(1,2,1)\n",
    "plt.plot(model_history.history['loss'], label='Training Loss')\n",
    "plt.plot(model_history.history['val_loss'], label='Validation Loss')\n",
    "plt.legend()\n",
    "plt.xlabel('Number of epochs', fontsize=15)\n",
    "plt.ylabel('Loss', fontsize=15)\n",
    "\n",
    "plt.subplot(1,2,2)\n",
    "plt.plot(model_history.history['accuracy'], label='Train Accuracy')\n",
    "plt.plot(model_history.history['val_accuracy'], label='Validation Accuracy')\n",
    "plt.legend()\n",
    "plt.xlabel('Number of epochs', fontsize=14)\n",
    "plt.ylabel('Accuracy', fontsize=14)\n",
    "plt.show()"
   ]
  },
  {
   "cell_type": "code",
   "execution_count": 41,
   "metadata": {
    "colab": {
     "base_uri": "https://localhost:8080/"
    },
    "id": "qQ1JYaWyVZJf",
    "outputId": "60ef62b5-22ba-43b8-cb67-31857cf0b641"
   },
   "outputs": [
    {
     "name": "stdout",
     "output_type": "stream",
     "text": [
      "[19  8 15  5 14 14 17 14  0  8 10  7  0 11 11  2  5  3  6  0 15 19 12  3\n",
      "  6  1  5  0 17 18  8 15  2 12 15  6 18  2 19  1 15 16 14 19  1  4 14  2\n",
      "  9  4 18 15  3  9 13 17 11 16 18  2 16 12  1  0 16  4 18 19  2 10  5  8\n",
      " 11  5 10 10 16  4 11 13  6  2 12 17  9 12 14  5 12 16 15  3  1  9 12 14\n",
      "  2  4 18  4 10  4 10  4 15  7  9 13 12  9  5  6 14  5 11 11  8 12  1 15\n",
      "  7 16  7 19  8 16 11 18 15  3  7 19 12 10 10 15 16  6  3 15  7  2  1  3\n",
      " 13 10  6 16 10  4 18 11  3  8 13 11 15 18  3  6 17 16  4  7 14  8 19  3\n",
      " 13  4 18 19 14  6 12  8 14]\n"
     ]
    }
   ],
   "source": [
    "print(y_pred)"
   ]
  },
  {
   "cell_type": "code",
   "execution_count": 43,
   "metadata": {
    "colab": {
     "base_uri": "https://localhost:8080/"
    },
    "id": "IeM_zWNyVLXb",
    "outputId": "2ed09a12-4416-423d-870f-e8c46bd9676e"
   },
   "outputs": [
    {
     "name": "stdout",
     "output_type": "stream",
     "text": [
      "[[ 5  0  0  0  0  0  0  0  0  0  0  0  0  0  0  0  0  0  0  0]\n",
      " [ 0  7  0  0  0  0  0  0  0  0  0  0  0  0  0  2  0  0  0  0]\n",
      " [ 0  0  8  0  0  0  0  0  0  0  0  0  0  0  0  0  0  0  1  0]\n",
      " [ 0  0  0  7  0  0  0  0  0  0  0  1  0  0  0  0  0  0  0  0]\n",
      " [ 0  0  0  0  8  0  0  0  0  0  0  0  0  0  0  2  0  0  0  0]\n",
      " [ 0  0  0  0  0  8  0  0  0  0  1  0  0  0  0  1  0  0  0  0]\n",
      " [ 0  0  0  0  0  0  8  0  0  0  0  0  0  0  0  0  0  0  0  0]\n",
      " [ 0  0  0  1  0  0  0  7  0  0  1  0  0  0  0  0  0  0  0  0]\n",
      " [ 0  0  0  1  0  0  0  0  6  0  0  0  0  0  0  0  0  0  0  0]\n",
      " [ 0  0  0  0  0  0  0  0  0  6  0  0  0  0  0  0  0  0  0  0]\n",
      " [ 0  0  0  0  0  0  0  0  0  0  8  0  0  0  0  0  0  0  0  0]\n",
      " [ 0  0  0  0  0  0  0  0  0  0  0  9  0  0  0  0  0  0  0  0]\n",
      " [ 0  0  0  0  0  0  1  0  1  0  0  0  7  0  0  1  0  0  1  0]\n",
      " [ 0  0  0  0  1  0  0  0  0  0  0  0  0  6  2  0  0  0  0  0]\n",
      " [ 0  0  0  0  0  0  0  0  0  0  0  0  0  0  8  0  0  1  0  0]\n",
      " [ 0  0  0  0  1  0  0  0  0  0  0  0  1  0  0  7  0  0  0  0]\n",
      " [ 0  0  0  1  0  0  0  0  1  0  0  0  0  0  0  0 11  0  0  0]\n",
      " [ 0  0  0  0  0  0  0  0  0  0  0  0  2  0  1  0  0  4  0  0]\n",
      " [ 0  0  0  0  1  0  0  0  1  0  0  0  1  0  0  0  0  0  8  2]\n",
      " [ 0  0  1  0  0  0  0  0  0  0  0  0  0  0  0  0  0  0  0  7]]\n",
      "              precision    recall  f1-score   support\n",
      "\n",
      "           0      1.000     1.000     1.000         5\n",
      "           1      1.000     0.778     0.875         9\n",
      "           2      0.889     0.889     0.889         9\n",
      "           3      0.700     0.875     0.778         8\n",
      "           4      0.727     0.800     0.762        10\n",
      "           5      1.000     0.800     0.889        10\n",
      "           6      0.889     1.000     0.941         8\n",
      "           7      1.000     0.778     0.875         9\n",
      "           8      0.667     0.857     0.750         7\n",
      "           9      1.000     1.000     1.000         6\n",
      "          10      0.800     1.000     0.889         8\n",
      "          11      0.900     1.000     0.947         9\n",
      "          12      0.636     0.636     0.636        11\n",
      "          13      1.000     0.667     0.800         9\n",
      "          14      0.727     0.889     0.800         9\n",
      "          15      0.538     0.778     0.636         9\n",
      "          16      1.000     0.846     0.917        13\n",
      "          17      0.800     0.571     0.667         7\n",
      "          18      0.800     0.615     0.696        13\n",
      "          19      0.778     0.875     0.824         8\n",
      "\n",
      "    accuracy                          0.819       177\n",
      "   macro avg      0.843     0.833     0.829       177\n",
      "weighted avg      0.840     0.819     0.821       177\n",
      "\n"
     ]
    }
   ],
   "source": [
    "from sklearn import metrics\n",
    "\n",
    "print(metrics.confusion_matrix(np.argmax(y_test, axis=1), y_pred))\n",
    "\n",
    "print(metrics.classification_report(np.argmax(y_test, axis=1), y_pred, digits=3))"
   ]
  },
  {
   "cell_type": "markdown",
   "metadata": {
    "id": "V_cceBu8rcY2"
   },
   "source": [
    "Ref:\n",
    "\n",
    "https://towardsdatascience.com/cifar-100-transfer-learning-using-efficientnet-ed3ed7b89af2\n",
    "\n",
    "https://www.youtube.com/watch?v=fCtMf6qHtdk\n",
    "\n",
    "\n"
   ]
  }
 ],
 "metadata": {
  "accelerator": "GPU",
  "colab": {
   "provenance": []
  },
  "gpuClass": "standard",
  "kernelspec": {
   "display_name": "Python 3",
   "language": "python",
   "name": "python3"
  },
  "language_info": {
   "codemirror_mode": {
    "name": "ipython",
    "version": 3
   },
   "file_extension": ".py",
   "mimetype": "text/x-python",
   "name": "python",
   "nbconvert_exporter": "python",
   "pygments_lexer": "ipython3",
   "version": "3.6.2"
  }
 },
 "nbformat": 4,
 "nbformat_minor": 1
}
